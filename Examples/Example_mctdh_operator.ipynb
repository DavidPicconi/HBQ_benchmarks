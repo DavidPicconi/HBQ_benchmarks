{
 "cells": [
  {
   "cell_type": "markdown",
   "id": "bb0e47c0-d239-415d-9466-e3fd03d10d6d",
   "metadata": {},
   "source": [
    "This notebook illustrates how to generate an operator file for HBQ the codes MCTDH or Quantics. \n",
    "The generated operator accounts for 4 electronic states: $S_0$ (isolated) and three excited diabatic states (coupled).\n",
    "The effective modes included in the Hamiltonian are declared in a list, the remaining modes are set to 0."
   ]
  },
  {
   "cell_type": "code",
   "execution_count": 1,
   "id": "88b3a289-7fc1-4fd0-b36e-aaa792731a03",
   "metadata": {},
   "outputs": [],
   "source": [
    "# General imports\n",
    "import sys\n",
    "sys.path.append('C:\\\\Users\\\\david\\\\Documents\\\\Codes\\\\HBQ')   # local path where the folder hbq is located\n",
    "import hbq"
   ]
  },
  {
   "cell_type": "code",
   "execution_count": 3,
   "id": "1aa5716c-e427-4602-83e8-2ee6086d0677",
   "metadata": {},
   "outputs": [],
   "source": [
    "####\n",
    "# Declare the modes that needs to be included (the other ones are set to 0)\n",
    "# Note that:\n",
    "# -  0 is the proton transfer more\n",
    "# -  1,2,3,4 are the modes that couple the pipi* and the npi* states\n",
    "# -  8 is the anharmonic mode\n",
    "modes = [0, 1, 2, 3, 4, 8, 57]\n",
    "\n",
    "####\n",
    "# Operator file\n",
    "op_file = 'C:\\\\Users\\\\david\\\\Documents\\\\Codes\\\\HBQ\\\\test\\\\hbq.op'\n",
    "\n",
    "####\n",
    "# Folder where the surface parameters are located.\n",
    "# It makes sense to have the parameters in the same folder where the operator file is located, but this folder needs to be specified manually\n",
    "# If the folder (parameter_path) is unspecified, the folder where the parameter files are originally located is used.\n",
    "\n",
    "# parameter_path = ...    # full path of the folder 'surface_parameters'"
   ]
  },
  {
   "cell_type": "code",
   "execution_count": 5,
   "id": "fec15d26-f27e-4199-bc8e-c08c6c832455",
   "metadata": {},
   "outputs": [],
   "source": [
    "# Generate the operator file\n",
    "hbq.mctdh_operator(modes, op_file = op_file)"
   ]
  },
  {
   "cell_type": "code",
   "execution_count": null,
   "id": "82be721e-5542-4ecd-9d7f-a7d4c744b4a7",
   "metadata": {},
   "outputs": [],
   "source": []
  }
 ],
 "metadata": {
  "kernelspec": {
   "display_name": "Python [conda env:base] *",
   "language": "python",
   "name": "conda-base-py"
  },
  "language_info": {
   "codemirror_mode": {
    "name": "ipython",
    "version": 3
   },
   "file_extension": ".py",
   "mimetype": "text/x-python",
   "name": "python",
   "nbconvert_exporter": "python",
   "pygments_lexer": "ipython3",
   "version": "3.12.7"
  }
 },
 "nbformat": 4,
 "nbformat_minor": 5
}
